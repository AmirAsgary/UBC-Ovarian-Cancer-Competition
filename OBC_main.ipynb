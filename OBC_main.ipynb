{
  "nbformat": 4,
  "nbformat_minor": 0,
  "metadata": {
    "colab": {
      "provenance": [],
      "authorship_tag": "ABX9TyMxf8uWp3q4PqLDLd8yiDPu",
      "include_colab_link": true
    },
    "kernelspec": {
      "name": "python3",
      "display_name": "Python 3"
    },
    "language_info": {
      "name": "python"
    }
  },
  "cells": [
    {
      "cell_type": "markdown",
      "metadata": {
        "id": "view-in-github",
        "colab_type": "text"
      },
      "source": [
        "<a href=\"https://colab.research.google.com/github/AmirAsgary/UBC-Ovarian-Cancer-Competition/blob/main/OBC_main.ipynb\" target=\"_parent\"><img src=\"https://colab.research.google.com/assets/colab-badge.svg\" alt=\"Open In Colab\"/></a>"
      ]
    },
    {
      "cell_type": "markdown",
      "source": [
        "# This NoteBook is The main Source of Our Project ⛪"
      ],
      "metadata": {
        "id": "Xc84qE8GllYw"
      }
    },
    {
      "cell_type": "markdown",
      "source": [
        "### ⚒ First, we need to define the data type and difficulities we are going to deal with. What are our main challenges?\n",
        "\n",
        "#### **Exploratory Data Analysis (EDA)**\n",
        "EDA holds significant importance in comprehending and preparing data for diverse analytical endeavors, including projects like UBC Ovarian Cancer Subtype Classification and Outlier Detection (UBC-OCEAN). Below is a stepwise guide on executing EDA for this dataset:\n",
        "\n",
        "**Overview**\n",
        "\n",
        "The primary objective of the UBC Ovarian Cancer Subtype Classification and Outlier Detection (UBC-OCEAN) competition is to categorize ovarian cancer subtypes. Participants are tasked with constructing a model trained on the world's most extensive ovarian cancer dataset, comprising histopathology images sourced from over 20 medical centers.\n",
        "\n",
        "**Data Types:**\n",
        "\n",
        "We have mainly two categories of Data: **1- TMA** and **2- WSI**.\n",
        "We also have two formats of data, one for **Thumbnail** and the other for **Whole Image**, while both Thumbnail and Whole Image can be weather WSI or TMA. Simply, the difference between the two former are in size and related features (e.g. Pixels) and between two latter are in Focusing  (zoom in-out).\n",
        "\n",
        "**Data Loading:**\n",
        "\n",
        "Import the dataset into your preferred data analysis environment, such as Python, utilizing libraries like pandas, numpy, and matplotlib/seaborn for visualization."
      ],
      "metadata": {
        "id": "Yn-ak7D4sF_k"
      }
    },
    {
      "cell_type": "code",
      "execution_count": null,
      "metadata": {
        "id": "cPfqj5EilhRn"
      },
      "outputs": [],
      "source": []
    }
  ]
}